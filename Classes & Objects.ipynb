{
 "cells": [
  {
   "cell_type": "code",
   "execution_count": 1,
   "id": "f464bd6a",
   "metadata": {},
   "outputs": [
    {
     "name": "stdout",
     "output_type": "stream",
     "text": [
      "(1, 2, 3)\n"
     ]
    }
   ],
   "source": [
    "# Question 1\n",
    "# Write a python class named Point3D defined by x, y, and z. Define a method that returns (x, y ,z). \n",
    "# This tells Python to represent this object in the following format: (x, y, z). \n",
    "# Then create a variable named my_point containing a new instance of Point3D with x=1, y=2, and z=3 and print it.\n",
    "\n",
    "class Point3D:\n",
    "    def __init__(self, x, y, z):\n",
    "        self.x = x\n",
    "        self.y = y\n",
    "        self.z = z\n",
    "    def __repr__(self):\n",
    "        return \"(%d, %d, %d)\" % (self.x, self.y, self.z) #%d represent digits\n",
    "        \n",
    "my_point = Point3D(1,2,3)\n",
    "\n",
    "print(my_point)"
   ]
  },
  {
   "cell_type": "code",
   "execution_count": 2,
   "id": "75b6ed80",
   "metadata": {},
   "outputs": [
    {
     "name": "stdout",
     "output_type": "stream",
     "text": [
      "(1, 2, 3)\n"
     ]
    }
   ],
   "source": [
    "# Question 1\n",
    "# Write a python class named Point3D defined by x, y, and z. Define a method that returns (x, y ,z). \n",
    "# This tells Python to represent this object in the following format: (x, y, z). \n",
    "# Then create a variable named my_point containing a new instance of Point3D with x=1, y=2, and z=3 and print it.\n",
    "\n",
    "class Point3D(object):\n",
    "    def __init__(self, x, y, z):\n",
    "        self.x = x\n",
    "        self.y = y\n",
    "        self.z = z\n",
    "    def __repr__(self):\n",
    "        return \"(\" + str(self.x) + \", \" + str(self.y) + \", \" + str(self.z) + \")\"\n",
    "\n",
    "my_point = Point3D(1, 2, 3)\n",
    "print(my_point)"
   ]
  },
  {
   "cell_type": "code",
   "execution_count": 3,
   "id": "833556cf",
   "metadata": {},
   "outputs": [
    {
     "name": "stdout",
     "output_type": "stream",
     "text": [
      "The area of the rectangle is 12\n",
      "The Perimeter of the rectangle is 14\n"
     ]
    }
   ],
   "source": [
    "# Question 2\n",
    "\n",
    "# Write a Python class named Rectangle constructed by a length and width. \n",
    "# Define two methods area and perimeter which will compute the area and the perimeter of the rectangle. \n",
    "# Then create a variable named my_rectangle containing a new instance of Rectangle with width=3 and length = 4 \n",
    "# compute both of area and perimeter ( the area is expected to be 3*4=12 and perimeter 2*(3+4)=14)\n",
    "\n",
    "class Rectangle:\n",
    "    def __init__(self, l, w):\n",
    "        self.l = l\n",
    "        self.w  = w\n",
    "\n",
    "    def area(self):\n",
    "        return self.l*self.w\n",
    "\n",
    "    def perimeter(self):\n",
    "        return 2*(self.l+self.w)\n",
    "\n",
    "my_rectangle = Rectangle(4,3)\n",
    "print(\"The area of the rectangle is\", my_rectangle.area())\n",
    "print(\"The Perimeter of the rectangle is\", my_rectangle.perimeter())"
   ]
  },
  {
   "cell_type": "code",
   "execution_count": 13,
   "id": "1a7cabcf",
   "metadata": {},
   "outputs": [
    {
     "name": "stdout",
     "output_type": "stream",
     "text": [
      "The area of the circle is 50.24\n",
      "The Perimeter of the circle is 25.12\n",
      "Point A belongs to the circle\n",
      "2.23606797749979\n"
     ]
    }
   ],
   "source": [
    "# Question 3\n",
    "\n",
    "# Write a Python  class named Circle constructed by its center O and radius r. \n",
    "# Define two methods area and perimeter which will compute the area and the perimeter of the circle\n",
    "# Also define an isInside() method of the class which allows to test whether a point A(x, y) belongs to the circle C(O, r) or not.\n",
    "\n",
    "import math\n",
    "\n",
    "class Circle:\n",
    "    def __init__(self, r, x, y):\n",
    "        self.r = r\n",
    "        self.x = x\n",
    "        self.y = y\n",
    "\n",
    "    def isInside(self):\n",
    "        distance = math.sqrt(self.x**2+self.y**2)\n",
    "        \n",
    "        if distance <= self.r:\n",
    "            print(\"Point A belongs to the circle\")\n",
    "        else:\n",
    "            print(\"Point A does not belong to the circle\")\n",
    "        return distance\n",
    "    \n",
    "    def area(self):\n",
    "        return self.r**2*3.14\n",
    "    \n",
    "    def perimeter(self):\n",
    "        return 2*self.r*3.14\n",
    "\n",
    "my_circle = Circle(4,2,1)\n",
    "print(\"The area of the circle is\", my_circle.area())\n",
    "print(\"The Perimeter of the circle is\", my_circle.perimeter())\n",
    "my_circle = Circle(4,2,1)\n",
    "print(my_circle.isInside())"
   ]
  },
  {
   "cell_type": "code",
   "execution_count": 25,
   "id": "4d0fe85a",
   "metadata": {},
   "outputs": [
    {
     "name": "stdout",
     "output_type": "stream",
     "text": [
      "Welcome!!! \n",
      "Please enter the amount to be Deposited: 1000\n",
      "\n",
      "Amount Deposited: 1000.0\n",
      "Your balance is 1000.0\n",
      "\n",
      "Please enter the amount to be Withdrawn: 200\n",
      "\n",
      "You Withdrew: 200.0\n",
      "Your balance is 800.0\n"
     ]
    }
   ],
   "source": [
    "# Question 4\n",
    "# Suppose we want to model a bank account with support for deposit and withdraw operations. \n",
    "# Let’s create a python class named bank defined by its balance. \n",
    "# Define two methods deposit and withdraw to compute the new amount of each operation.\n",
    "\n",
    "class Bank:\n",
    "    def __init__(self):\n",
    "        self.balance=0\n",
    "        print(\"Welcome!!! \")\n",
    " \n",
    "    def deposit(self):\n",
    "        amount=float(input(\"Please enter the amount to be Deposited: \"))\n",
    "        self.balance += amount\n",
    "        print(\"\\nAmount Deposited:\",amount)\n",
    "        print(\"Your balance is\",self.balance)\n",
    " \n",
    "    def withdraw(self):\n",
    "        amount = float(input(\"\\nPlease enter the amount to be Withdrawn: \"))\n",
    "        if self.balance>=amount:\n",
    "            self.balance-=amount\n",
    "            print(\"\\nYou Withdrew:\", amount)\n",
    "            print(\"Your balance is\",self.balance)\n",
    "        else:\n",
    "            print(\"\\n Insufficient balance  \")\n",
    " \n",
    "s = Bank() # creating an object of class\n",
    "  \n",
    "# Calling functions with that class object\n",
    "s.deposit()\n",
    "s.withdraw()"
   ]
  },
  {
   "cell_type": "code",
   "execution_count": null,
   "id": "2b1e4d90",
   "metadata": {},
   "outputs": [],
   "source": []
  }
 ],
 "metadata": {
  "kernelspec": {
   "display_name": "Python 3 (ipykernel)",
   "language": "python",
   "name": "python3"
  },
  "language_info": {
   "codemirror_mode": {
    "name": "ipython",
    "version": 3
   },
   "file_extension": ".py",
   "mimetype": "text/x-python",
   "name": "python",
   "nbconvert_exporter": "python",
   "pygments_lexer": "ipython3",
   "version": "3.9.7"
  }
 },
 "nbformat": 4,
 "nbformat_minor": 5
}
